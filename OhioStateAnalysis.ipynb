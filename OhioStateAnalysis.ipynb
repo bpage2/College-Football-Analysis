{
 "cells": [
  {
   "cell_type": "code",
   "execution_count": 2,
   "metadata": {},
   "outputs": [],
   "source": [
    "import pandas as pd"
   ]
  },
  {
   "cell_type": "code",
   "execution_count": 3,
   "metadata": {},
   "outputs": [],
   "source": [
    "df=pd.read_csv (r'C:\\Users\\student\\Documents\\OhioState.csv')"
   ]
  },
  {
   "cell_type": "code",
   "execution_count": 4,
   "metadata": {},
   "outputs": [
    {
     "data": {
      "text/html": [
       "<div>\n",
       "<style scoped>\n",
       "    .dataframe tbody tr th:only-of-type {\n",
       "        vertical-align: middle;\n",
       "    }\n",
       "\n",
       "    .dataframe tbody tr th {\n",
       "        vertical-align: top;\n",
       "    }\n",
       "\n",
       "    .dataframe thead th {\n",
       "        text-align: right;\n",
       "    }\n",
       "</style>\n",
       "<table border=\"1\" class=\"dataframe\">\n",
       "  <thead>\n",
       "    <tr style=\"text-align: right;\">\n",
       "      <th></th>\n",
       "      <th>Rk</th>\n",
       "      <th>Year</th>\n",
       "      <th>Conf</th>\n",
       "      <th>W</th>\n",
       "      <th>L</th>\n",
       "      <th>T</th>\n",
       "      <th>Pct</th>\n",
       "      <th>SRS</th>\n",
       "      <th>SOS</th>\n",
       "      <th>AP Pre</th>\n",
       "      <th>AP High</th>\n",
       "      <th>AP Post</th>\n",
       "      <th>Coach</th>\n",
       "      <th>Bowl</th>\n",
       "      <th>Notes</th>\n",
       "    </tr>\n",
       "  </thead>\n",
       "  <tbody>\n",
       "    <tr>\n",
       "      <th>0</th>\n",
       "      <td>1</td>\n",
       "      <td>2019</td>\n",
       "      <td>Big Ten</td>\n",
       "      <td>13</td>\n",
       "      <td>1</td>\n",
       "      <td>0</td>\n",
       "      <td>0.929</td>\n",
       "      <td>27.39</td>\n",
       "      <td>7.32</td>\n",
       "      <td>5.0</td>\n",
       "      <td>2.0</td>\n",
       "      <td>3.0</td>\n",
       "      <td>Ryan Day</td>\n",
       "      <td>Fiesta Bowl-L</td>\n",
       "      <td>NaN</td>\n",
       "    </tr>\n",
       "    <tr>\n",
       "      <th>1</th>\n",
       "      <td>2</td>\n",
       "      <td>2018</td>\n",
       "      <td>Big Ten</td>\n",
       "      <td>13</td>\n",
       "      <td>1</td>\n",
       "      <td>0</td>\n",
       "      <td>0.929</td>\n",
       "      <td>17.74</td>\n",
       "      <td>4.10</td>\n",
       "      <td>5.0</td>\n",
       "      <td>2.0</td>\n",
       "      <td>3.0</td>\n",
       "      <td>Urban Meyer</td>\n",
       "      <td>Rose Bowl-W</td>\n",
       "      <td>NaN</td>\n",
       "    </tr>\n",
       "    <tr>\n",
       "      <th>2</th>\n",
       "      <td>3</td>\n",
       "      <td>2017</td>\n",
       "      <td>Big Ten</td>\n",
       "      <td>12</td>\n",
       "      <td>2</td>\n",
       "      <td>0</td>\n",
       "      <td>0.857</td>\n",
       "      <td>21.82</td>\n",
       "      <td>7.89</td>\n",
       "      <td>2.0</td>\n",
       "      <td>2.0</td>\n",
       "      <td>5.0</td>\n",
       "      <td>Urban Meyer</td>\n",
       "      <td>Cotton Bowl-W</td>\n",
       "      <td>NaN</td>\n",
       "    </tr>\n",
       "    <tr>\n",
       "      <th>3</th>\n",
       "      <td>4</td>\n",
       "      <td>2016</td>\n",
       "      <td>Big Ten</td>\n",
       "      <td>11</td>\n",
       "      <td>2</td>\n",
       "      <td>0</td>\n",
       "      <td>0.846</td>\n",
       "      <td>18.82</td>\n",
       "      <td>6.59</td>\n",
       "      <td>6.0</td>\n",
       "      <td>2.0</td>\n",
       "      <td>6.0</td>\n",
       "      <td>Urban Meyer</td>\n",
       "      <td>Fiesta Bowl-L</td>\n",
       "      <td>NaN</td>\n",
       "    </tr>\n",
       "    <tr>\n",
       "      <th>4</th>\n",
       "      <td>5</td>\n",
       "      <td>2015</td>\n",
       "      <td>Big Ten</td>\n",
       "      <td>12</td>\n",
       "      <td>1</td>\n",
       "      <td>0</td>\n",
       "      <td>0.923</td>\n",
       "      <td>20.73</td>\n",
       "      <td>3.81</td>\n",
       "      <td>1.0</td>\n",
       "      <td>1.0</td>\n",
       "      <td>4.0</td>\n",
       "      <td>Urban Meyer</td>\n",
       "      <td>Fiesta Bowl-W</td>\n",
       "      <td>NaN</td>\n",
       "    </tr>\n",
       "  </tbody>\n",
       "</table>\n",
       "</div>"
      ],
      "text/plain": [
       "   Rk  Year     Conf   W  L  T    Pct    SRS   SOS  AP Pre  AP High  AP Post  \\\n",
       "0   1  2019  Big Ten  13  1  0  0.929  27.39  7.32     5.0      2.0      3.0   \n",
       "1   2  2018  Big Ten  13  1  0  0.929  17.74  4.10     5.0      2.0      3.0   \n",
       "2   3  2017  Big Ten  12  2  0  0.857  21.82  7.89     2.0      2.0      5.0   \n",
       "3   4  2016  Big Ten  11  2  0  0.846  18.82  6.59     6.0      2.0      6.0   \n",
       "4   5  2015  Big Ten  12  1  0  0.923  20.73  3.81     1.0      1.0      4.0   \n",
       "\n",
       "         Coach           Bowl Notes  \n",
       "0     Ryan Day  Fiesta Bowl-L   NaN  \n",
       "1  Urban Meyer    Rose Bowl-W   NaN  \n",
       "2  Urban Meyer  Cotton Bowl-W   NaN  \n",
       "3  Urban Meyer  Fiesta Bowl-L   NaN  \n",
       "4  Urban Meyer  Fiesta Bowl-W   NaN  "
      ]
     },
     "execution_count": 4,
     "metadata": {},
     "output_type": "execute_result"
    }
   ],
   "source": [
    "df.head()"
   ]
  },
  {
   "cell_type": "code",
   "execution_count": 5,
   "metadata": {},
   "outputs": [
    {
     "data": {
      "text/plain": [
       "9.183333333333334"
      ]
     },
     "execution_count": 5,
     "metadata": {},
     "output_type": "execute_result"
    }
   ],
   "source": [
    "#Average Wins Per Season\n",
    "df['W'].mean()"
   ]
  },
  {
   "cell_type": "code",
   "execution_count": 6,
   "metadata": {},
   "outputs": [],
   "source": [
    "WinsByCoach = df.groupby('Coach')['W'].mean()"
   ]
  },
  {
   "cell_type": "code",
   "execution_count": 7,
   "metadata": {},
   "outputs": [
    {
     "data": {
      "text/plain": [
       "Coach\n",
       "Earle Bruce      9.000000\n",
       "Jim Tressel     10.600000\n",
       "John Cooper      8.538462\n",
       "Luke Fickell     6.000000\n",
       "Ryan Day        13.000000\n",
       "Urban Meyer     12.285714\n",
       "Woody Hayes      7.789474\n",
       "Name: W, dtype: float64"
      ]
     },
     "execution_count": 7,
     "metadata": {},
     "output_type": "execute_result"
    }
   ],
   "source": [
    "WinsByCoach.head(20)"
   ]
  },
  {
   "cell_type": "code",
   "execution_count": 8,
   "metadata": {},
   "outputs": [],
   "source": [
    "WorstFinalPosition =df.groupby('Coach')['AP Post'].max()"
   ]
  },
  {
   "cell_type": "code",
   "execution_count": 9,
   "metadata": {},
   "outputs": [
    {
     "data": {
      "text/plain": [
       "Coach\n",
       "Earle Bruce     15.0\n",
       "Jim Tressel     20.0\n",
       "John Cooper     24.0\n",
       "Luke Fickell     NaN\n",
       "Ryan Day         3.0\n",
       "Urban Meyer     12.0\n",
       "Woody Hayes     11.0\n",
       "Name: AP Post, dtype: float64"
      ]
     },
     "execution_count": 9,
     "metadata": {},
     "output_type": "execute_result"
    }
   ],
   "source": [
    "WorstFinalPosition.head(10)"
   ]
  },
  {
   "cell_type": "code",
   "execution_count": 10,
   "metadata": {},
   "outputs": [],
   "source": [
    "# gives unranked teams the value of 40\n",
    "finaldf=df.fillna(40) "
   ]
  },
  {
   "cell_type": "code",
   "execution_count": 11,
   "metadata": {},
   "outputs": [],
   "source": [
    "# Averaeg final positon in the AP Poll by Coach\n",
    "MeanFinalPosition =finaldf.groupby('Coach')['AP Post'].mean()"
   ]
  },
  {
   "cell_type": "code",
   "execution_count": 12,
   "metadata": {},
   "outputs": [
    {
     "data": {
      "text/plain": [
       "Coach\n",
       "Earle Bruce     14.333333\n",
       "Jim Tressel      9.500000\n",
       "John Cooper     22.230769\n",
       "Luke Fickell    40.000000\n",
       "Ryan Day         3.000000\n",
       "Urban Meyer      4.857143\n",
       "Woody Hayes     18.157895\n",
       "Name: AP Post, dtype: float64"
      ]
     },
     "execution_count": 12,
     "metadata": {},
     "output_type": "execute_result"
    }
   ],
   "source": [
    "MeanFinalPosition.head(10)"
   ]
  },
  {
   "cell_type": "code",
   "execution_count": 13,
   "metadata": {},
   "outputs": [
    {
     "data": {
      "text/plain": [
       "7.444444444444445"
      ]
     },
     "execution_count": 13,
     "metadata": {},
     "output_type": "execute_result"
    }
   ],
   "source": [
    "\n",
    "df['AP Post'].mean()"
   ]
  },
  {
   "cell_type": "code",
   "execution_count": 14,
   "metadata": {},
   "outputs": [
    {
     "data": {
      "text/plain": [
       "15.583333333333334"
      ]
     },
     "execution_count": 14,
     "metadata": {},
     "output_type": "execute_result"
    }
   ],
   "source": [
    "finaldf['AP Post'].mean()"
   ]
  },
  {
   "cell_type": "code",
   "execution_count": 15,
   "metadata": {},
   "outputs": [
    {
     "data": {
      "text/plain": [
       "<matplotlib.legend.Legend at 0x1cba8b9d940>"
      ]
     },
     "execution_count": 15,
     "metadata": {},
     "output_type": "execute_result"
    },
    {
     "data": {
      "image/png": "[encoded data removed]",
      "text/plain": [
       "<Figure size 432x288 with 1 Axes>"
      ]
     },
     "metadata": {
      "needs_background": "light"
     },
     "output_type": "display_data"
    }
   ],
   "source": [
    "# wins per season by coach\n",
    "%matplotlib inline\n",
    "\n",
    "import matplotlib.pyplot as plt\n",
    "\n",
    "WinsByCoach.plot.bar(color=['red'])\n",
    "plt.title('Ohio State Wins')\n",
    "plt.xlabel('Coach')\n",
    "plt.ylabel('W')\n",
    "plt.legend(['Count of rows'])"
   ]
  },
  {
   "cell_type": "code",
   "execution_count": 17,
   "metadata": {},
   "outputs": [],
   "source": [
    "WinningPercentage=df['W'] / (df['W'] + df['L'] + df['T'])"
   ]
  },
  {
   "cell_type": "code",
   "execution_count": 18,
   "metadata": {},
   "outputs": [],
   "source": [
    "ozark=df.assign(WP = WinningPercentage)"
   ]
  },
  {
   "cell_type": "code",
   "execution_count": 19,
   "metadata": {},
   "outputs": [
    {
     "data": {
      "text/html": [
       "<div>\n",
       "<style scoped>\n",
       "    .dataframe tbody tr th:only-of-type {\n",
       "        vertical-align: middle;\n",
       "    }\n",
       "\n",
       "    .dataframe tbody tr th {\n",
       "        vertical-align: top;\n",
       "    }\n",
       "\n",
       "    .dataframe thead th {\n",
       "        text-align: right;\n",
       "    }\n",
       "</style>\n",
       "<table border=\"1\" class=\"dataframe\">\n",
       "  <thead>\n",
       "    <tr style=\"text-align: right;\">\n",
       "      <th></th>\n",
       "      <th>Rk</th>\n",
       "      <th>Year</th>\n",
       "      <th>Conf</th>\n",
       "      <th>W</th>\n",
       "      <th>L</th>\n",
       "      <th>T</th>\n",
       "      <th>Pct</th>\n",
       "      <th>SRS</th>\n",
       "      <th>SOS</th>\n",
       "      <th>AP Pre</th>\n",
       "      <th>AP High</th>\n",
       "      <th>AP Post</th>\n",
       "      <th>Coach</th>\n",
       "      <th>Bowl</th>\n",
       "      <th>Notes</th>\n",
       "      <th>WP</th>\n",
       "    </tr>\n",
       "  </thead>\n",
       "  <tbody>\n",
       "    <tr>\n",
       "      <th>0</th>\n",
       "      <td>1</td>\n",
       "      <td>2019</td>\n",
       "      <td>Big Ten</td>\n",
       "      <td>13</td>\n",
       "      <td>1</td>\n",
       "      <td>0</td>\n",
       "      <td>0.929</td>\n",
       "      <td>27.39</td>\n",
       "      <td>7.32</td>\n",
       "      <td>5.0</td>\n",
       "      <td>2.0</td>\n",
       "      <td>3.0</td>\n",
       "      <td>Ryan Day</td>\n",
       "      <td>Fiesta Bowl-L</td>\n",
       "      <td>NaN</td>\n",
       "      <td>0.928571</td>\n",
       "    </tr>\n",
       "    <tr>\n",
       "      <th>1</th>\n",
       "      <td>2</td>\n",
       "      <td>2018</td>\n",
       "      <td>Big Ten</td>\n",
       "      <td>13</td>\n",
       "      <td>1</td>\n",
       "      <td>0</td>\n",
       "      <td>0.929</td>\n",
       "      <td>17.74</td>\n",
       "      <td>4.10</td>\n",
       "      <td>5.0</td>\n",
       "      <td>2.0</td>\n",
       "      <td>3.0</td>\n",
       "      <td>Urban Meyer</td>\n",
       "      <td>Rose Bowl-W</td>\n",
       "      <td>NaN</td>\n",
       "      <td>0.928571</td>\n",
       "    </tr>\n",
       "    <tr>\n",
       "      <th>2</th>\n",
       "      <td>3</td>\n",
       "      <td>2017</td>\n",
       "      <td>Big Ten</td>\n",
       "      <td>12</td>\n",
       "      <td>2</td>\n",
       "      <td>0</td>\n",
       "      <td>0.857</td>\n",
       "      <td>21.82</td>\n",
       "      <td>7.89</td>\n",
       "      <td>2.0</td>\n",
       "      <td>2.0</td>\n",
       "      <td>5.0</td>\n",
       "      <td>Urban Meyer</td>\n",
       "      <td>Cotton Bowl-W</td>\n",
       "      <td>NaN</td>\n",
       "      <td>0.857143</td>\n",
       "    </tr>\n",
       "    <tr>\n",
       "      <th>3</th>\n",
       "      <td>4</td>\n",
       "      <td>2016</td>\n",
       "      <td>Big Ten</td>\n",
       "      <td>11</td>\n",
       "      <td>2</td>\n",
       "      <td>0</td>\n",
       "      <td>0.846</td>\n",
       "      <td>18.82</td>\n",
       "      <td>6.59</td>\n",
       "      <td>6.0</td>\n",
       "      <td>2.0</td>\n",
       "      <td>6.0</td>\n",
       "      <td>Urban Meyer</td>\n",
       "      <td>Fiesta Bowl-L</td>\n",
       "      <td>NaN</td>\n",
       "      <td>0.846154</td>\n",
       "    </tr>\n",
       "    <tr>\n",
       "      <th>4</th>\n",
       "      <td>5</td>\n",
       "      <td>2015</td>\n",
       "      <td>Big Ten</td>\n",
       "      <td>12</td>\n",
       "      <td>1</td>\n",
       "      <td>0</td>\n",
       "      <td>0.923</td>\n",
       "      <td>20.73</td>\n",
       "      <td>3.81</td>\n",
       "      <td>1.0</td>\n",
       "      <td>1.0</td>\n",
       "      <td>4.0</td>\n",
       "      <td>Urban Meyer</td>\n",
       "      <td>Fiesta Bowl-W</td>\n",
       "      <td>NaN</td>\n",
       "      <td>0.923077</td>\n",
       "    </tr>\n",
       "  </tbody>\n",
       "</table>\n",
       "</div>"
      ],
      "text/plain": [
       "   Rk  Year     Conf   W  L  T    Pct    SRS   SOS  AP Pre  AP High  AP Post  \\\n",
       "0   1  2019  Big Ten  13  1  0  0.929  27.39  7.32     5.0      2.0      3.0   \n",
       "1   2  2018  Big Ten  13  1  0  0.929  17.74  4.10     5.0      2.0      3.0   \n",
       "2   3  2017  Big Ten  12  2  0  0.857  21.82  7.89     2.0      2.0      5.0   \n",
       "3   4  2016  Big Ten  11  2  0  0.846  18.82  6.59     6.0      2.0      6.0   \n",
       "4   5  2015  Big Ten  12  1  0  0.923  20.73  3.81     1.0      1.0      4.0   \n",
       "\n",
       "         Coach           Bowl Notes        WP  \n",
       "0     Ryan Day  Fiesta Bowl-L   NaN  0.928571  \n",
       "1  Urban Meyer    Rose Bowl-W   NaN  0.928571  \n",
       "2  Urban Meyer  Cotton Bowl-W   NaN  0.857143  \n",
       "3  Urban Meyer  Fiesta Bowl-L   NaN  0.846154  \n",
       "4  Urban Meyer  Fiesta Bowl-W   NaN  0.923077  "
      ]
     },
     "execution_count": 19,
     "metadata": {},
     "output_type": "execute_result"
    }
   ],
   "source": [
    "ozark.head()"
   ]
  },
  {
   "cell_type": "code",
   "execution_count": 21,
   "metadata": {},
   "outputs": [],
   "source": [
    "PercentageBySeason=ozark.groupby('Year')['WP'].mean()"
   ]
  },
  {
   "cell_type": "code",
   "execution_count": 24,
   "metadata": {},
   "outputs": [
    {
     "data": {
      "text/plain": [
       "Text(0.5, 0, 'Year')"
      ]
     },
     "execution_count": 24,
     "metadata": {},
     "output_type": "execute_result"
    },
    {
     "data": {
      "image/png": "[encoded data removed]",
      "text/plain": [
       "<Figure size 432x288 with 1 Axes>"
      ]
     },
     "metadata": {
      "needs_background": "light"
     },
     "output_type": "display_data"
    }
   ],
   "source": [
    "# Winning Percentage by Season\n",
    "PercentageBySeason.plot.line(color='green')\n",
    "plt.title('WinningPercentage')\n",
    "plt.ylabel('Win%')\n",
    "plt.xlabel('Year')"
   ]
  },
  {
   "cell_type": "code",
   "execution_count": 104,
   "metadata": {},
   "outputs": [],
   "source": [
    "Percentage By Season=ozark.groupby('Year')['WP'].mean()"
   ]
  },
  {
   "cell_type": "code",
   "execution_count": 100,
   "metadata": {},
   "outputs": [
    {
     "data": {
      "text/html": [
       "<div>\n",
       "<style scoped>\n",
       "    .dataframe tbody tr th:only-of-type {\n",
       "        vertical-align: middle;\n",
       "    }\n",
       "\n",
       "    .dataframe tbody tr th {\n",
       "        vertical-align: top;\n",
       "    }\n",
       "\n",
       "    .dataframe thead th {\n",
       "        text-align: right;\n",
       "    }\n",
       "</style>\n",
       "<table border=\"1\" class=\"dataframe\">\n",
       "  <thead>\n",
       "    <tr style=\"text-align: right;\">\n",
       "      <th></th>\n",
       "      <th>Rk</th>\n",
       "      <th>Year</th>\n",
       "      <th>Conf</th>\n",
       "      <th>W</th>\n",
       "      <th>L</th>\n",
       "      <th>T</th>\n",
       "      <th>Pct</th>\n",
       "      <th>SRS</th>\n",
       "      <th>SOS</th>\n",
       "      <th>AP Pre</th>\n",
       "      <th>AP High</th>\n",
       "      <th>AP Post</th>\n",
       "      <th>Coach</th>\n",
       "      <th>Bowl</th>\n",
       "      <th>Notes</th>\n",
       "    </tr>\n",
       "  </thead>\n",
       "  <tbody>\n",
       "    <tr>\n",
       "      <th>0</th>\n",
       "      <td>1</td>\n",
       "      <td>2019</td>\n",
       "      <td>Big Ten</td>\n",
       "      <td>13</td>\n",
       "      <td>1</td>\n",
       "      <td>0</td>\n",
       "      <td>0.929</td>\n",
       "      <td>27.39</td>\n",
       "      <td>7.32</td>\n",
       "      <td>5.0</td>\n",
       "      <td>2.0</td>\n",
       "      <td>3.0</td>\n",
       "      <td>Ryan Day</td>\n",
       "      <td>Fiesta Bowl-L</td>\n",
       "      <td>NaN</td>\n",
       "    </tr>\n",
       "    <tr>\n",
       "      <th>1</th>\n",
       "      <td>2</td>\n",
       "      <td>2018</td>\n",
       "      <td>Big Ten</td>\n",
       "      <td>13</td>\n",
       "      <td>1</td>\n",
       "      <td>0</td>\n",
       "      <td>0.929</td>\n",
       "      <td>17.74</td>\n",
       "      <td>4.10</td>\n",
       "      <td>5.0</td>\n",
       "      <td>2.0</td>\n",
       "      <td>3.0</td>\n",
       "      <td>Urban Meyer</td>\n",
       "      <td>Rose Bowl-W</td>\n",
       "      <td>NaN</td>\n",
       "    </tr>\n",
       "    <tr>\n",
       "      <th>2</th>\n",
       "      <td>3</td>\n",
       "      <td>2017</td>\n",
       "      <td>Big Ten</td>\n",
       "      <td>12</td>\n",
       "      <td>2</td>\n",
       "      <td>0</td>\n",
       "      <td>0.857</td>\n",
       "      <td>21.82</td>\n",
       "      <td>7.89</td>\n",
       "      <td>2.0</td>\n",
       "      <td>2.0</td>\n",
       "      <td>5.0</td>\n",
       "      <td>Urban Meyer</td>\n",
       "      <td>Cotton Bowl-W</td>\n",
       "      <td>NaN</td>\n",
       "    </tr>\n",
       "    <tr>\n",
       "      <th>3</th>\n",
       "      <td>4</td>\n",
       "      <td>2016</td>\n",
       "      <td>Big Ten</td>\n",
       "      <td>11</td>\n",
       "      <td>2</td>\n",
       "      <td>0</td>\n",
       "      <td>0.846</td>\n",
       "      <td>18.82</td>\n",
       "      <td>6.59</td>\n",
       "      <td>6.0</td>\n",
       "      <td>2.0</td>\n",
       "      <td>6.0</td>\n",
       "      <td>Urban Meyer</td>\n",
       "      <td>Fiesta Bowl-L</td>\n",
       "      <td>NaN</td>\n",
       "    </tr>\n",
       "    <tr>\n",
       "      <th>4</th>\n",
       "      <td>5</td>\n",
       "      <td>2015</td>\n",
       "      <td>Big Ten</td>\n",
       "      <td>12</td>\n",
       "      <td>1</td>\n",
       "      <td>0</td>\n",
       "      <td>0.923</td>\n",
       "      <td>20.73</td>\n",
       "      <td>3.81</td>\n",
       "      <td>1.0</td>\n",
       "      <td>1.0</td>\n",
       "      <td>4.0</td>\n",
       "      <td>Urban Meyer</td>\n",
       "      <td>Fiesta Bowl-W</td>\n",
       "      <td>NaN</td>\n",
       "    </tr>\n",
       "  </tbody>\n",
       "</table>\n",
       "</div>"
      ],
      "text/plain": [
       "   Rk  Year     Conf   W  L  T    Pct    SRS   SOS  AP Pre  AP High  AP Post  \\\n",
       "0   1  2019  Big Ten  13  1  0  0.929  27.39  7.32     5.0      2.0      3.0   \n",
       "1   2  2018  Big Ten  13  1  0  0.929  17.74  4.10     5.0      2.0      3.0   \n",
       "2   3  2017  Big Ten  12  2  0  0.857  21.82  7.89     2.0      2.0      5.0   \n",
       "3   4  2016  Big Ten  11  2  0  0.846  18.82  6.59     6.0      2.0      6.0   \n",
       "4   5  2015  Big Ten  12  1  0  0.923  20.73  3.81     1.0      1.0      4.0   \n",
       "\n",
       "         Coach           Bowl Notes  \n",
       "0     Ryan Day  Fiesta Bowl-L   NaN  \n",
       "1  Urban Meyer    Rose Bowl-W   NaN  \n",
       "2  Urban Meyer  Cotton Bowl-W   NaN  \n",
       "3  Urban Meyer  Fiesta Bowl-L   NaN  \n",
       "4  Urban Meyer  Fiesta Bowl-W   NaN  "
      ]
     },
     "execution_count": 100,
     "metadata": {},
     "output_type": "execute_result"
    }
   ],
   "source": [
    "df.head()"
   ]
  },
  {
   "cell_type": "code",
   "execution_count": 107,
   "metadata": {},
   "outputs": [
    {
     "data": {
      "text/plain": [
       "Text(0.5, 0, 'Year')"
      ]
     },
     "execution_count": 107,
     "metadata": {},
     "output_type": "execute_result"
    },
    {
     "data": {
      "image/png": "[encoded data removed]",
      "text/plain": [
       "<Figure size 432x288 with 1 Axes>"
      ]
     },
     "metadata": {
      "needs_background": "light"
     },
     "output_type": "display_data"
    }
   ],
   "source": [
    "Graphwp.plot.line(color='green')\n",
    "plt.title('WinningPercentage')\n",
    "plt.ylabel('Win%')\n",
    "plt.xlabel('Year')\n"
   ]
  },
  {
   "cell_type": "code",
   "execution_count": null,
   "metadata": {},
   "outputs": [],
   "source": []
  }
 ],
 "metadata": {
  "kernelspec": {
   "display_name": "Python 3",
   "language": "python",
   "name": "python3"
  },
  "language_info": {
   "codemirror_mode": {
    "name": "ipython",
    "version": 3
   },
   "file_extension": ".py",
   "mimetype": "text/x-python",
   "name": "python",
   "nbconvert_exporter": "python",
   "pygments_lexer": "ipython3",
   "version": "3.7.1"
  }
 },
 "nbformat": 4,
 "nbformat_minor": 2
}
